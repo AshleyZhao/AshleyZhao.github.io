{
 "cells": [
  {
   "cell_type": "markdown",
   "id": "2fdd080b-a440-4269-a829-75cb9a7af0eb",
   "metadata": {},
   "source": [
    "### Comparison study between fast-text and TF-IDF"
   ]
  },
  {
   "cell_type": "code",
   "execution_count": null,
   "id": "3021492a-a695-45fd-801e-226660186351",
   "metadata": {},
   "outputs": [],
   "source": []
  }
 ],
 "metadata": {
  "kernelspec": {
   "display_name": "Python 3 (ipykernel)",
   "language": "python",
   "name": "python3"
  },
  "language_info": {
   "codemirror_mode": {
    "name": "ipython",
    "version": 3
   },
   "file_extension": ".py",
   "mimetype": "text/x-python",
   "name": "python",
   "nbconvert_exporter": "python",
   "pygments_lexer": "ipython3",
   "version": "3.9.12"
  }
 },
 "nbformat": 4,
 "nbformat_minor": 5
}
